{
 "cells": [
  {
   "cell_type": "code",
   "execution_count": null,
   "metadata": {
    "vscode": {
     "languageId": "plaintext"
    }
   },
   "outputs": [],
   "source": [
    "from win32com.client import Dispatch\n",
    "\n",
    "df = land_data\n",
    "\n",
    "xlApp = Dispatch(\"Excel.Application\")\n",
    "xlApp.Visible = 1\n",
    "workbook_path = r'\\\\wsl.localhost\\Ubuntu-22.04\\home\\flas\\source\\course\\modelling\\agristrat\\附件1.xlsx'\n",
    "xlApp.Workbooks.Open(workbook_path)\n",
    "\n",
    "sheet_name = 'land' #Make sure this sheet exists!\n",
    "sheet = xlApp.ActiveWorkbook.Sheets(sheet_name)\n",
    "sheet.select\n",
    "sheet.cells.clearcontents # keep as lowecase letters. Camel case doesn't work?!\n",
    "y, x = 1 + df.shape[0], df.shape[1]\n",
    "sheet.Range(sheet.Cells(1, 1), sheet.Cells(1, x)).Value = list(df.columns)\n",
    "sheet.Range(sheet.Cells(2, 1), sheet.Cells(y, x)).Value = list(df.values)\n",
    "\n",
    "xlApp.ActiveWorkbook.RefreshAll #Refresh Pivot Tables if any\n",
    "xlApp.ActiveWorkbook.Save\n",
    "\n",
    "# send_email = False\n",
    "# if send_email == True: xlApp.Application.Run('Python_SendEmail') # In case you wanted to run vba macro\n",
    "# xlApp.ActiveWorkbook.Close(SaveChanges=True)\n",
    "# xlApp.Quit()\n",
    "# del xlApp\n"
   ]
  }
 ],
 "metadata": {
  "language_info": {
   "name": "python"
  }
 },
 "nbformat": 4,
 "nbformat_minor": 2
}
