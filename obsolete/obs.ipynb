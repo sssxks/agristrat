{
 "cells": [
  {
   "cell_type": "code",
   "execution_count": null,
   "metadata": {
    "vscode": {
     "languageId": "plaintext"
    }
   },
   "outputs": [],
   "source": [
    "from win32com.client import Dispatch\n",
    "\n",
    "df = land_data\n",
    "\n",
    "xlApp = Dispatch(\"Excel.Application\")\n",
    "xlApp.Visible = 1\n",
    "workbook_path = r'\\\\wsl.localhost\\Ubuntu-22.04\\home\\flas\\source\\course\\modelling\\agristrat\\附件1.xlsx'\n",
    "xlApp.Workbooks.Open(workbook_path)\n",
    "\n",
    "sheet_name = 'land' #Make sure this sheet exists!\n",
    "sheet = xlApp.ActiveWorkbook.Sheets(sheet_name)\n",
    "sheet.select\n",
    "sheet.cells.clearcontents # keep as lowecase letters. Camel case doesn't work?!\n",
    "y, x = 1 + df.shape[0], df.shape[1]\n",
    "sheet.Range(sheet.Cells(1, 1), sheet.Cells(1, x)).Value = list(df.columns)\n",
    "sheet.Range(sheet.Cells(2, 1), sheet.Cells(y, x)).Value = list(df.values)\n",
    "\n",
    "xlApp.ActiveWorkbook.RefreshAll #Refresh Pivot Tables if any\n",
    "xlApp.ActiveWorkbook.Save\n",
    "\n",
    "# send_email = False\n",
    "# if send_email == True: xlApp.Application.Run('Python_SendEmail') # In case you wanted to run vba macro\n",
    "# xlApp.ActiveWorkbook.Close(SaveChanges=True)\n",
    "# xlApp.Quit()\n",
    "# del xlApp\n"
   ]
  },
  {
   "cell_type": "code",
   "execution_count": null,
   "metadata": {},
   "outputs": [],
   "source": [
    "# Copyright 2024, Gurobi Optimization, LLC\n",
    "\n",
    "# This example formulates and solves the following simple MIP model:\n",
    "#  maximize\n",
    "#        x +   y + 2 z\n",
    "#  subject to\n",
    "#        x + 2 y + 3 z <= 4\n",
    "#        x +   y       >= 1\n",
    "#        x, y, z binary\n",
    "\n",
    "import gurobipy as gp\n",
    "from gurobipy import GRB\n",
    "\n",
    "try:\n",
    "    # Create a new model\n",
    "    m = gp.Model(\"mip1\")\n",
    "\n",
    "    # Create variables\n",
    "    x = m.addVar(vtype=GRB.BINARY, name=\"x\")\n",
    "    y = m.addVar(vtype=GRB.BINARY, name=\"y\")\n",
    "    z = m.addVar(vtype=GRB.BINARY, name=\"z\")\n",
    "\n",
    "    # Set objective\n",
    "    m.setObjective(x + y + 2 * z, GRB.MAXIMIZE)\n",
    "\n",
    "    # Add constraint: x + 2 y + 3 z <= 4\n",
    "    m.addConstr(x + 2 * y + 3 * z <= 4, \"c0\")\n",
    "\n",
    "    # Add constraint: x + y >= 1\n",
    "    m.addConstr(x + y >= 1, \"c1\")\n",
    "\n",
    "    # Optimize model\n",
    "    m.optimize()\n",
    "\n",
    "    for v in m.getVars():\n",
    "        print(f\"{v.VarName} {v.X:g}\")\n",
    "\n",
    "    print(f\"Obj: {m.ObjVal:g}\")\n",
    "\n",
    "except gp.GurobiError as e:\n",
    "    print(f\"Error code {e.errno}: {e}\")\n",
    "\n",
    "except AttributeError:\n",
    "    print(\"Encountered an attribute error\")"
   ]
  }
 ],
 "metadata": {
  "language_info": {
   "name": "python"
  }
 },
 "nbformat": 4,
 "nbformat_minor": 2
}
