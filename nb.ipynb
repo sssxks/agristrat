{
 "cells": [
  {
   "cell_type": "code",
   "execution_count": 118,
   "metadata": {},
   "outputs": [],
   "source": [
    "# !pip install scipy\n",
    "import pandas as pd\n",
    "import lib.excel_util as excel_util\n",
    "\n",
    "# define useful constants\n",
    "# 地块类型与季次的映射\n",
    "landtype_season_map = {\n",
    "    '平旱地': ['单季'],\n",
    "    '梯田': ['单季'],\n",
    "    '山坡地': ['单季'],\n",
    "    '水浇地': ['单季', '第一季', '第二季'],\n",
    "    '普通大棚': ['第一季', '第二季'],\n",
    "    '智慧大棚': ['第一季', '第二季']\n",
    "}\n",
    "\n",
    "# 这里需要替换成你自己的绝对位置\n",
    "workbook_path_1 = r'\\\\wsl.localhost\\Ubuntu-22.04\\home\\flas\\source\\course\\modelling\\agristrat\\附件1.xlsx'\n",
    "workbook_path_2 = r'\\\\wsl.localhost\\Ubuntu-22.04\\home\\flas\\source\\course\\modelling\\agristrat\\附件2.xlsx'\n",
    "workbook_path_result_1 = r'\\\\wsl.localhost\\Ubuntu-22.04\\home\\flas\\source\\course\\modelling\\agristrat\\result1_1.xlsx'\n",
    "workbook_path_result_2 = r'\\\\wsl.localhost\\Ubuntu-22.04\\home\\flas\\source\\course\\modelling\\agristrat\\result1_2.xlsx'"
   ]
  },
  {
   "cell_type": "markdown",
   "metadata": {},
   "source": [
    "# Preprocessing\n",
    "\n",
    "## Tidy Land\n"
   ]
  },
  {
   "cell_type": "code",
   "execution_count": null,
   "metadata": {},
   "outputs": [],
   "source": [
    "land_data = pd.read_excel(\"附件1.xlsx\").drop(columns=['说明 '])\n",
    "land_data.replace(\"普通大棚 \", \"普通大棚\", inplace=True)\n",
    "land_data.info()"
   ]
  },
  {
   "cell_type": "code",
   "execution_count": 120,
   "metadata": {},
   "outputs": [],
   "source": [
    "excel_util.export_to_excel(land_data, workbook_path_1, 'land')"
   ]
  },
  {
   "cell_type": "markdown",
   "metadata": {},
   "source": [
    "## Tidy Crop\n"
   ]
  },
  {
   "cell_type": "code",
   "execution_count": null,
   "metadata": {},
   "outputs": [],
   "source": [
    "crop_data = pd.read_excel(\"附件1.xlsx\", sheet_name=\"crop_tidied\")\n",
    "\n",
    "# Function to split land and season\n",
    "def split_land_season(land_season_str):\n",
    "    pairs = land_season_str.split('|')\n",
    "    result = []\n",
    "    for pair in pairs:\n",
    "        if '-' in pair:\n",
    "            land, *seasons = pair.split('-')\n",
    "            for season in seasons:\n",
    "                result.append(f'{land}-{season}')\n",
    "        else:\n",
    "            result.append(f\"{pair}-单季\")\n",
    "    return result\n",
    "\n",
    "# Apply the function to each row and explode the list into separate rows\n",
    "crop_data['land_season_split'] = crop_data['种植耕地'].apply(split_land_season)\n",
    "crop_data_exploded = crop_data.explode('land_season_split')\n",
    "\n",
    "# Create dummy variables\n",
    "dummies = pd.get_dummies(crop_data_exploded['land_season_split'])\n",
    "\n",
    "# Group back to original rows by summing the dummy variables\n",
    "crop_data_dummies = dummies.groupby(crop_data_exploded.index).sum()\n",
    "\n",
    "# Concatenate the original DataFrame with the dummy variables\n",
    "crop_data_concat = pd.concat([crop_data, crop_data_dummies], axis=1)\n",
    "\n",
    "crop_data_concat['id'] = crop_data_concat['作物编号'] - 1\n",
    "crop_data_concat['legume'] = crop_data['作物类型'].str.contains('豆类')\n",
    "\n",
    "# Drop the intermediate column\n",
    "crop_data = crop_data_concat[['id', '作物名称', \n",
    "         '平旱地-单季', '梯田-单季', '山坡地-单季', \n",
    "         '水浇地-单季', '水浇地-第一季', '水浇地-第二季', \n",
    "         '普通大棚-第一季', '普通大棚-第二季', \n",
    "         '智慧大棚-第一季', '智慧大棚-第二季', 'legume']]\n",
    "\n",
    "# Display the final DataFrame\n",
    "crop_data.info()"
   ]
  },
  {
   "cell_type": "code",
   "execution_count": 122,
   "metadata": {},
   "outputs": [],
   "source": [
    "excel_util.export_to_excel(crop_data, workbook_path_1, 'crop_dummied')"
   ]
  },
  {
   "cell_type": "markdown",
   "metadata": {},
   "source": [
    "## Generate Configs\n"
   ]
  },
  {
   "cell_type": "code",
   "execution_count": null,
   "metadata": {},
   "outputs": [],
   "source": [
    "# join landtype and season\n",
    "import pandas as pd\n",
    "\n",
    "# 将地块类型与季次映射转换为 DataFrame\n",
    "landtype_season_df = pd.DataFrame([\n",
    "    {'地块类型': land_type, '季次': season}\n",
    "    for land_type, seasons in landtype_season_map.items()\n",
    "    for season in seasons\n",
    "])\n",
    "\n",
    "# 使用 merge 进行笛卡尔积，生成所有地块和季次的组合\n",
    "land_season_data = pd.merge(land_data, landtype_season_df, on='地块类型')\n",
    "land_season_data['id'] = land_season_data.index\n",
    "land_season_data = land_season_data[['id', '地块名称', '地块类型', '季次', '地块面积/亩']]\n",
    "\n",
    "# 查看结果\n",
    "land_season_data.info()"
   ]
  },
  {
   "cell_type": "code",
   "execution_count": 124,
   "metadata": {},
   "outputs": [],
   "source": [
    "excel_util.export_to_excel(land_season_data, workbook_path_1, 'land_season')"
   ]
  },
  {
   "cell_type": "code",
   "execution_count": null,
   "metadata": {},
   "outputs": [],
   "source": [
    "crop_data.info() # has dummied columns\n",
    "land_season_data.info()"
   ]
  },
  {
   "cell_type": "code",
   "execution_count": null,
   "metadata": {},
   "outputs": [],
   "source": [
    "import pandas as pd\n",
    "\n",
    "# Step 1: Perform a Cartesian product (cross join)\n",
    "combined_df = pd.merge(crop_data, land_season_data, how='cross')\n",
    "\n",
    "# Step 2: Apply the filtering logic\n",
    "def is_valid_combination(row):\n",
    "    land_type = row['地块类型']\n",
    "    season = row['季次']\n",
    "    \n",
    "    # Check if the land type and season combination is valid\n",
    "    if land_type in landtype_season_map and season in landtype_season_map[land_type]:\n",
    "        column_name = f\"{land_type}-{season}\"\n",
    "        return row[column_name] == 1\n",
    "    return False\n",
    "\n",
    "# Apply the filtering function to the combined DataFrame\n",
    "configs = combined_df[combined_df.apply(is_valid_combination, axis=1)].drop(columns=[\n",
    "    '平旱地-单季', '梯田-单季', '山坡地-单季', \n",
    "    '水浇地-单季', '水浇地-第一季', '水浇地-第二季', \n",
    "    '普通大棚-第一季', '普通大棚-第二季', \n",
    "    '智慧大棚-第一季', '智慧大棚-第二季', '地块面积/亩'\n",
    "]).rename(columns={'id_x':'id_crop', 'id_y':'id_landseason'})[['id_crop', 'id_landseason', '作物名称', '地块类型', '季次', '地块名称']]\n",
    "\n",
    "configs"
   ]
  },
  {
   "cell_type": "markdown",
   "metadata": {},
   "source": [
    "## Tidy Price\n"
   ]
  },
  {
   "cell_type": "code",
   "execution_count": null,
   "metadata": {},
   "outputs": [],
   "source": [
    "price_data = pd.read_excel(\"附件2.xlsx\", sheet_name=\"price\")\n",
    "\n",
    "# 一些处理\n",
    "price_data['id_crop'] = price_data['作物编号'] - 1\n",
    "price_data.rename(columns={'种植季次':'季次'}, inplace=True)\n",
    "price_data.replace(\"普通大棚 \", \"普通大棚\", inplace=True) # 稍微有点坑\n",
    "\n",
    "# add back omitted data (见excel注2)\n",
    "ordinary_greenhouse_first_season = price_data[\n",
    "    (price_data['地块类型'] == '普通大棚') & (price_data['季次'] == '第一季')\n",
    "]\n",
    "smart_greenhouse_first_season = ordinary_greenhouse_first_season.copy()\n",
    "smart_greenhouse_first_season['地块类型'] = '智慧大棚'\n",
    "price_data = pd.concat([price_data, smart_greenhouse_first_season], ignore_index=True)\n",
    "\n",
    "price_data"
   ]
  },
  {
   "cell_type": "code",
   "execution_count": null,
   "metadata": {},
   "outputs": [],
   "source": [
    "# 将（作物，地块，季次）与一个价格对应。注意价格是（作物，**地块类型**，季次）的函数，所以这里不on id_landseason 而是 on 地块类型\n",
    "configs_w_profit = pd.merge(configs, price_data[['id_crop', '季次', '地块类型', 'profit']], on=['id_crop', '地块类型', '季次'], how='left')\n",
    "configs_w_profit"
   ]
  },
  {
   "cell_type": "code",
   "execution_count": null,
   "metadata": {},
   "outputs": [],
   "source": [
    "# 检查是否有缺失值，现在应该没有了\n",
    "configs_w_profit[configs_w_profit['profit'].isnull()]['地块类型'].unique() # 智慧大棚部分作物没有价格\n",
    "na_profit_configs: pd.DataFrame = configs_w_profit[configs_w_profit['profit'].isnull()].loc[:, ['地块类型', '作物名称', '季次']]\n",
    "na_profit_configs.drop_duplicates(subset=['地块类型', '作物名称', '季次'])"
   ]
  },
  {
   "cell_type": "code",
   "execution_count": 130,
   "metadata": {},
   "outputs": [],
   "source": [
    "excel_util.export_to_excel(configs_w_profit, workbook_path_1, 'configs_w_profit')"
   ]
  },
  {
   "cell_type": "markdown",
   "metadata": {},
   "source": [
    "# Context Preparation\n",
    "\n",
    "our data is already tidy, but we need to further processing it to provide the context for the model. this part is somewhat related to the mathmatical formulation\n",
    "\n",
    "## Basic constraints\n",
    "\n",
    "### land area:\n",
    "\n",
    "- for each year:\n",
    "  - for each land:\n",
    "    - sum of plant area of all configs <= land area\n",
    "\n",
    "### plant legumes at least once within three years 这个其实可以是连续的，也可以是离散的。\n",
    "- 连续的话规定三年种植面积之和大于土地面积应该就行了\n",
    "  - 真的吗？\n",
    "\n",
    "\n",
    "- for each land:\n",
    "  - for every consecutive three years:\n",
    "    - sum of plant area of all legumes >= land area\n",
    "\n",
    "\n",
    "### avoid continuously planted in the same plot:应该是一个离散约束。简单规定，不能两年连续种同一种作物\n",
    "\n",
    "问题：两季连续重茬种植算不算？\n",
    "\n",
    "- for each land:\n",
    "  - for every consecutive two years:\n",
    "    - for every config:\n",
    "        - x_{year, config} == 0 or x_{year+1, config} == 0\n",
    "\n",
    "\n",
    "### avoiding scattered planting areas for each crop per season这个也可以是连续的，也可以是离散的。\n",
    "- 连续的话用方差/基尼系数/熵/hhi（涉及到一些凸优化）\n",
    "  - 但是好像不太对，这里其实需求不是有多“分散”，而是有多“稀疏”\n",
    "    - 比如[2, 2, 2, 2, 2]和[9, 0.25, 0.25, 0.25, 0.25]，按照这些指标来看，当然前者分散后者集中，但按题意，其实这两个半斤八两（\n",
    "- 离散的话直接规定每种作物 现在用了多少块地 <= 这个种植量下应该最少用几块地 + 允许多用的块数\n",
    "  - 然后再用一个线性函数近似表达一下“这个种植量下应该最少用几块地”（？）\n",
    "\n",
    "\n",
    "- for each crop:\n",
    "  - number of crops planted in each plot <= \n",
    "\n",
    "### avoiding small portion of planting area in each plot for each crop\n",
    "\n",
    "\n",
    "\n",
    "\n",
    "## Special constraints\n",
    "\n",
    "- 水稻不能和其他作物合种\n",
    "- 水浇地第二季只能种大白菜、白萝卜、红萝卜三种**之一**\n",
    "- 榆黄菇，香菇，白灵菇，羊肚菌只能秋冬种（第二季是在 9 月至下一年 4 月前后）\n"
   ]
  },
  {
   "cell_type": "code",
   "execution_count": 131,
   "metadata": {},
   "outputs": [],
   "source": [
    "assert len(land_data['地块名称'].unique()) == len(land_data)"
   ]
  },
  {
   "cell_type": "markdown",
   "metadata": {},
   "source": [
    "# Define Model\n"
   ]
  },
  {
   "cell_type": "code",
   "execution_count": null,
   "metadata": {},
   "outputs": [],
   "source": [
    "import gurobipy as gp\n",
    "from gurobipy import GRB\n",
    "\n",
    "# constants\n",
    "YEARS = 7\n",
    "MAX_X = 100\n",
    "MIN_X = 0.001\n",
    "\n",
    "model = gp.Model(\"agri\")\n",
    "\n",
    "# (year, configs) \"每年的配置\"\n",
    "x = model.addMVar((YEARS, len(configs_w_profit)), lb=0, vtype=GRB.CONTINUOUS, name=\"x\")\n",
    "y = model.addMVar((YEARS, len(configs_w_profit)), vtype=GRB.BINARY, name=\"y\")\n",
    "\n",
    "# bind x and y: y in {0, 1} iff x in R > 0\n",
    "model.addConstr(x <= MAX_X * y, name=\"upper_bound\")\n",
    "model.addConstr(x >= MIN_X * y, name=\"lower_bound\")"
   ]
  },
  {
   "cell_type": "code",
   "execution_count": 203,
   "metadata": {},
   "outputs": [],
   "source": [
    "# objective function\n",
    "\n",
    "# automatically handled by broadcasting\n",
    "# x.shape = (7, 1062)\n",
    "# profits.shape = (1062,) -> (1, 1062)\n",
    "# x@profits.shape = (7, 1062) @ (1, 1062) = (7,)\n",
    "profits = configs_w_profit['profit'].values\n",
    "model.setObjective((x@profits).sum(), GRB.MAXIMIZE)"
   ]
  },
  {
   "cell_type": "code",
   "execution_count": 204,
   "metadata": {},
   "outputs": [],
   "source": [
    "### basic constraints\n",
    "\n",
    "# land area\n",
    "from gurobipy import and_\n",
    "import numpy as np\n",
    "\n",
    "for land_season in configs_w_profit['id_landseason'].unique():\n",
    "    land_season_mask = configs_w_profit['id_landseason'] == land_season\n",
    "    total_area = land_season_data.loc[land_season, '地块面积/亩']\n",
    "    \n",
    "    model.addConstr(x[:, land_season_mask].sum(axis=1) <= total_area, name=f\"land_area_{land_season}\")\n",
    "\n",
    "# avoid continuously planted in the same plot\n",
    "lands = configs_w_profit['地块名称'].unique()\n",
    "for land in lands:\n",
    "    land_mask = configs_w_profit['地块名称'] == land\n",
    "    crops_share_land = np.where(land_mask)[0]\n",
    "    \n",
    "    # gurobi doesn't support vector equality, so we need to loop through each element\n",
    "    # it also doesn't support 0 == and_(y[i, j], y[i+1, j]), so we need to \n",
    "    # use 0 == lhs, lhs == and_(y[i, j], y[i+1, j])\n",
    "    for i in range(YEARS-1):\n",
    "        lhs = model.addMVar((len(crops_share_land),), vtype=GRB.BINARY)\n",
    "        rhs = list(and_(y[i, j], y[i+1, j]) for j in crops_share_land)\n",
    "        model.addConstrs((lhs[k] == rhs[k] for k in range(len(crops_share_land))), name='continuously_planted_1')\n",
    "        model.addConstr(0 == lhs, name=\"continuously_planted_2\")"
   ]
  },
  {
   "cell_type": "code",
   "execution_count": 210,
   "metadata": {},
   "outputs": [],
   "source": [
    "# plant legumes at least once within three years\n",
    "\n",
    "legume_mask = configs_w_profit['id_crop'].isin(crop_data.loc[crop_data['legume'], 'id'])\n",
    "for land in lands:\n",
    "    land_mask = configs_w_profit['地块名称'] == land\n",
    "    total_area = land_data.loc[land_data['地块名称'] == land, '地块面积/亩'].values[0]\n",
    "    for i in range(YEARS-2): # 0, 1, 2, 3, 4\n",
    "        model.addConstr(x[i:i+3, legume_mask & land_mask].sum() >= total_area, name=f\"legume_{land}_{i}\")"
   ]
  },
  {
   "cell_type": "code",
   "execution_count": null,
   "metadata": {},
   "outputs": [],
   "source": [
    "# special constraints\n",
    "# 水稻不能和其他作物合种: y_水稻 -> 同一块地的第一季、第二季不种任何作物\n",
    "land_mask = configs_w_profit['地块类型'] == '水浇地'\n",
    "crop_mask = configs_w_profit['作物名称'] == '水稻'\n",
    "\n",
    "# crops_share_land = and_(y[:, land_mask & ~crop_mask]).sum(axis=1)\n",
    "crops_share_land = configs_w_profit[land_mask & ~crop_mask].reset_index()[['index', '地块名称']]\n",
    "# .pivot(columns='index', index='地块名称')\n",
    "# crops_share_land\n",
    "aggregate_matrix = pd.crosstab(crops_share_land['index'], crops_share_land['地块名称']).values\n",
    "\n",
    "planted_other_crop = x[:, land_mask & ~crop_mask] @ aggregate_matrix\n",
    "model.addGenConstrIndicator(y[:, land_mask & crop_mask], 1, planted_other_crop, GRB.EQUAL, 0)"
   ]
  },
  {
   "cell_type": "code",
   "execution_count": null,
   "metadata": {},
   "outputs": [],
   "source": [
    "model.write(\"model.lp\")"
   ]
  },
  {
   "cell_type": "code",
   "execution_count": null,
   "metadata": {},
   "outputs": [],
   "source": [
    "model.optimize()\n",
    "solution = x.X\n",
    "print(f\"Obj: {model.ObjVal:g}\")"
   ]
  },
  {
   "cell_type": "markdown",
   "metadata": {},
   "source": [
    "# Write solution to file\n",
    "convert into the format seen in the result file & save it"
   ]
  },
  {
   "cell_type": "code",
   "execution_count": 212,
   "metadata": {},
   "outputs": [],
   "source": [
    "# 单季存在第一季里\n",
    "configs_w_profit['季次'] = configs_w_profit['季次'].replace('单季', '第一季')\n",
    "for i in range(YEARS):\n",
    "    configs_w_profit[f'solution'] = solution[i]\n",
    "    result = configs_w_profit.pivot(index=['季次', '地块名称'], columns='id_crop', values='solution').fillna('')\n",
    "    excel_util.export_to_excel(result, workbook_path_result_1, f'{2024+i}', \n",
    "                           include_columns=False, include_index=False, start_position=\"C2\")"
   ]
  }
 ],
 "metadata": {
  "kernelspec": {
   "display_name": "notebook",
   "language": "python",
   "name": "python3"
  },
  "language_info": {
   "codemirror_mode": {
    "name": "ipython",
    "version": 3
   },
   "file_extension": ".py",
   "mimetype": "text/x-python",
   "name": "python",
   "nbconvert_exporter": "python",
   "pygments_lexer": "ipython3",
   "version": "3.12.7"
  }
 },
 "nbformat": 4,
 "nbformat_minor": 2
}
