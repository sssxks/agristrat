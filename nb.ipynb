{
 "cells": [
  {
   "cell_type": "markdown",
   "metadata": {},
   "source": [
    "## Tidy Crop"
   ]
  },
  {
   "cell_type": "code",
   "execution_count": 29,
   "metadata": {},
   "outputs": [],
   "source": [
    "import pandas as pd\n",
    "\n",
    "land_data = pd.read_excel(\"附件1.xlsx\").drop(columns=['说明 '])\n",
    "crop_data = pd.read_excel(\"附件1.xlsx\", sheet_name=\"crop_tidied\")\n",
    "# display(land_data)\n",
    "# display(crop_data)"
   ]
  },
  {
   "cell_type": "code",
   "execution_count": 39,
   "metadata": {},
   "outputs": [
    {
     "name": "stdout",
     "output_type": "stream",
     "text": [
      "<class 'pandas.core.frame.DataFrame'>\n",
      "RangeIndex: 41 entries, 0 to 40\n",
      "Data columns (total 14 columns):\n",
      " #   Column    Non-Null Count  Dtype \n",
      "---  ------    --------------  ----- \n",
      " 0   作物编号      41 non-null     int64 \n",
      " 1   作物名称      41 non-null     object\n",
      " 2   作物类型      41 non-null     object\n",
      " 3   种植耕地      41 non-null     object\n",
      " 4   山坡地-单季    41 non-null     int64 \n",
      " 5   平旱地-单季    41 non-null     int64 \n",
      " 6   普通大棚-第一季  41 non-null     int64 \n",
      " 7   普通大棚-第二季  41 non-null     int64 \n",
      " 8   智慧大棚-第一季  41 non-null     int64 \n",
      " 9   智慧大棚-第二季  41 non-null     int64 \n",
      " 10  梯田-单季     41 non-null     int64 \n",
      " 11  水浇地-单季    41 non-null     int64 \n",
      " 12  水浇地-第一季   41 non-null     int64 \n",
      " 13  水浇地-第二季   41 non-null     int64 \n",
      "dtypes: int64(11), object(3)\n",
      "memory usage: 4.6+ KB\n"
     ]
    }
   ],
   "source": [
    "import pandas as pd\n",
    "\n",
    "# Function to split land and season\n",
    "def split_land_season(land_season_str):\n",
    "    pairs = land_season_str.split('|')\n",
    "    result = []\n",
    "    for pair in pairs:\n",
    "        if '-' in pair:\n",
    "            land, *seasons = pair.split('-')\n",
    "            for season in seasons:\n",
    "                result.append(f'{land}-{season}')\n",
    "        else:\n",
    "            result.append(f\"{pair}-单季\")\n",
    "    return result\n",
    "\n",
    "# Apply the function to each row and explode the list into separate rows\n",
    "crop_data['land_season_split'] = crop_data['种植耕地'].apply(split_land_season)\n",
    "crop_data_exploded = crop_data.explode('land_season_split')\n",
    "\n",
    "# Create dummy variables\n",
    "dummies = pd.get_dummies(crop_data_exploded['land_season_split'])\n",
    "\n",
    "# Group back to original rows by summing the dummy variables\n",
    "crop_data_dummies = dummies.groupby(crop_data_exploded.index).sum()\n",
    "\n",
    "# Concatenate the original DataFrame with the dummy variables\n",
    "crop_data_final = pd.concat([crop_data, crop_data_dummies], axis=1)\n",
    "\n",
    "# Drop the intermediate column\n",
    "crop_data_final = crop_data_final.drop(columns=['land_season_split'])\n",
    "\n",
    "# Display the final DataFrame\n",
    "crop_data_final.info()\n"
   ]
  },
  {
   "cell_type": "code",
   "execution_count": 35,
   "metadata": {},
   "outputs": [],
   "source": [
    "import lib.excel_util as excel_util\n",
    "\n",
    "workbook_path = r'\\\\wsl.localhost\\Ubuntu-22.04\\home\\flas\\source\\course\\modelling\\agristrat\\附件1.xlsx'\n",
    "sheet_name = 'land'\n",
    "\n",
    "excel_util.export_to_excel(land_data, workbook_path, sheet_name)\n"
   ]
  },
  {
   "cell_type": "markdown",
   "metadata": {},
   "source": [
    "## Generate Configs & Price"
   ]
  },
  {
   "cell_type": "code",
   "execution_count": 44,
   "metadata": {},
   "outputs": [
    {
     "name": "stdout",
     "output_type": "stream",
     "text": [
      "<class 'pandas.core.frame.DataFrame'>\n",
      "Index: 125 entries, 0 to 61\n",
      "Data columns (total 3 columns):\n",
      " #   Column  Non-Null Count  Dtype \n",
      "---  ------  --------------  ----- \n",
      " 0   作物名称    125 non-null    object\n",
      " 1   耕地类型    125 non-null    object\n",
      " 2   季次      125 non-null    object\n",
      "dtypes: object(3)\n",
      "memory usage: 3.9+ KB\n"
     ]
    }
   ],
   "source": [
    "import pandas as pd\n",
    "\n",
    "# Sample data (replace this with your actual DataFrame)\n",
    "crop_data_final\n",
    "\n",
    "# List of耕地类型 and季次 columns\n",
    "land_season_columns = [\n",
    "    '山坡地-单季', '平旱地-单季', '普通大棚-第一季', '普通大棚-第二季',\n",
    "    '智慧大棚-第一季', '智慧大棚-第二季', '梯田-单季', '水浇地-单季',\n",
    "    '水浇地-第一季', '水浇地-第二季'\n",
    "]\n",
    "\n",
    "# Create an empty list to store the results\n",
    "results = []\n",
    "\n",
    "# Iterate over each row in the DataFrame\n",
    "for index, row in crop_data_final.iterrows():\n",
    "    crop_name = row['作物名称']\n",
    "    \n",
    "    # Iterate over each耕地类型 and季次 column\n",
    "    for col in land_season_columns:\n",
    "        if row[col] == 1:  # Check if the dummy variable is 1\n",
    "            # Split the column name to get耕地类型 and季次\n",
    "            land_type, season = col.split('-')\n",
    "            \n",
    "            # Append the result as a tuple (作物名称, 耕地类型, 季次)\n",
    "            results.append((crop_name, land_type, season))\n",
    "\n",
    "# Create a new DataFrame from the results\n",
    "configs = pd.DataFrame(results, columns=['作物名称', '耕地类型', '季次'])\n",
    "configs.sort_values(\"耕地类型\", inplace=True)\n",
    "\n",
    "# Display the final DataFrame\n",
    "configs.info()"
   ]
  },
  {
   "cell_type": "code",
   "execution_count": 45,
   "metadata": {},
   "outputs": [],
   "source": [
    "excel_util.export_to_excel(configs, workbook_path, \"configs\")"
   ]
  },
  {
   "cell_type": "code",
   "execution_count": 46,
   "metadata": {},
   "outputs": [],
   "source": []
  }
 ],
 "metadata": {
  "kernelspec": {
   "display_name": "notebook",
   "language": "python",
   "name": "python3"
  },
  "language_info": {
   "codemirror_mode": {
    "name": "ipython",
    "version": 3
   },
   "file_extension": ".py",
   "mimetype": "text/x-python",
   "name": "python",
   "nbconvert_exporter": "python",
   "pygments_lexer": "ipython3",
   "version": "3.12.7"
  }
 },
 "nbformat": 4,
 "nbformat_minor": 2
}
