{
 "cells": [
  {
   "cell_type": "code",
   "execution_count": 72,
   "metadata": {},
   "outputs": [],
   "source": [
    "import pandas as pd\n",
    "import lib.excel_util as excel_util\n",
    "\n",
    "# define useful constants\n",
    "# 地块类型与季次的映射\n",
    "landtype_season_map = {\n",
    "    '平旱地': ['单季'],\n",
    "    '梯田': ['单季'],\n",
    "    '山坡地': ['单季'],\n",
    "    '水浇地': ['单季', '第一季', '第二季'],\n",
    "    '普通大棚': ['第一季', '第二季'],\n",
    "    '智慧大棚': ['第一季', '第二季']\n",
    "}\n",
    "\n",
    "workbook_path_1 = r'\\\\wsl.localhost\\Ubuntu-22.04\\home\\flas\\source\\course\\modelling\\agristrat\\附件1.xlsx'\n",
    "workbook_path_2 = r'\\\\wsl.localhost\\Ubuntu-22.04\\home\\flas\\source\\course\\modelling\\agristrat\\附件2.xlsx'"
   ]
  },
  {
   "cell_type": "markdown",
   "metadata": {},
   "source": [
    "# Preprocessing\n",
    "## Tidy Land"
   ]
  },
  {
   "cell_type": "code",
   "execution_count": null,
   "metadata": {},
   "outputs": [],
   "source": [
    "land_data = pd.read_excel(\"附件1.xlsx\").drop(columns=['说明 '])\n",
    "land_data.replace(\"普通大棚 \", \"普通大棚\", inplace=True)\n",
    "land_data.info()"
   ]
  },
  {
   "cell_type": "code",
   "execution_count": null,
   "metadata": {},
   "outputs": [],
   "source": [
    "excel_util.export_to_excel(land_data, workbook_path_1, 'land')"
   ]
  },
  {
   "cell_type": "markdown",
   "metadata": {},
   "source": [
    "## Tidy Crop"
   ]
  },
  {
   "cell_type": "code",
   "execution_count": null,
   "metadata": {},
   "outputs": [],
   "source": [
    "crop_data = pd.read_excel(\"附件1.xlsx\", sheet_name=\"crop_tidied\")\n",
    "\n",
    "# Function to split land and season\n",
    "def split_land_season(land_season_str):\n",
    "    pairs = land_season_str.split('|')\n",
    "    result = []\n",
    "    for pair in pairs:\n",
    "        if '-' in pair:\n",
    "            land, *seasons = pair.split('-')\n",
    "            for season in seasons:\n",
    "                result.append(f'{land}-{season}')\n",
    "        else:\n",
    "            result.append(f\"{pair}-单季\")\n",
    "    return result\n",
    "\n",
    "# Apply the function to each row and explode the list into separate rows\n",
    "crop_data['land_season_split'] = crop_data['种植耕地'].apply(split_land_season)\n",
    "crop_data_exploded = crop_data.explode('land_season_split')\n",
    "\n",
    "# Create dummy variables\n",
    "dummies = pd.get_dummies(crop_data_exploded['land_season_split'])\n",
    "\n",
    "# Group back to original rows by summing the dummy variables\n",
    "crop_data_dummies = dummies.groupby(crop_data_exploded.index).sum()\n",
    "\n",
    "# Concatenate the original DataFrame with the dummy variables\n",
    "crop_data_concat = pd.concat([crop_data, crop_data_dummies], axis=1)\n",
    "\n",
    "crop_data_concat['id'] = crop_data_concat['作物编号'] - 1\n",
    "\n",
    "# Drop the intermediate column\n",
    "crop_data = crop_data_concat[['id', '作物名称', \n",
    "         '平旱地-单季', '梯田-单季', '山坡地-单季', \n",
    "         '水浇地-单季', '水浇地-第一季', '水浇地-第二季', \n",
    "         '普通大棚-第一季', '普通大棚-第二季', \n",
    "         '智慧大棚-第一季', '智慧大棚-第二季']]\n",
    "\n",
    "# Display the final DataFrame\n",
    "crop_data.info()"
   ]
  },
  {
   "cell_type": "code",
   "execution_count": 40,
   "metadata": {},
   "outputs": [],
   "source": [
    "excel_util.export_to_excel(crop_data, workbook_path_1, 'crop_dummied')"
   ]
  },
  {
   "cell_type": "markdown",
   "metadata": {},
   "source": [
    "## Generate Configs"
   ]
  },
  {
   "cell_type": "code",
   "execution_count": null,
   "metadata": {},
   "outputs": [],
   "source": [
    "# join landtype and season\n",
    "import pandas as pd\n",
    "\n",
    "# 将地块类型与季次映射转换为 DataFrame\n",
    "landtype_season_df = pd.DataFrame([\n",
    "    {'地块类型': land_type, '季次': season}\n",
    "    for land_type, seasons in landtype_season_map.items()\n",
    "    for season in seasons\n",
    "])\n",
    "\n",
    "# 使用 merge 进行笛卡尔积，生成所有地块类型和季次的组合\n",
    "land_season = pd.merge(land_data, landtype_season_df, on='地块类型')\n",
    "land_season['id'] = land_season.index\n",
    "land_season = land_season[['id', '地块名称', '地块类型', '季次', '地块面积/亩']]\n",
    "\n",
    "# 查看结果\n",
    "land_season.info()"
   ]
  },
  {
   "cell_type": "code",
   "execution_count": 35,
   "metadata": {},
   "outputs": [],
   "source": [
    "excel_util.export_to_excel(land_season, workbook_path_1, 'land_season')"
   ]
  },
  {
   "cell_type": "code",
   "execution_count": null,
   "metadata": {},
   "outputs": [],
   "source": [
    "crop_data.info() # has dummied columns\n",
    "land_season.info()"
   ]
  },
  {
   "cell_type": "code",
   "execution_count": null,
   "metadata": {},
   "outputs": [],
   "source": [
    "import pandas as pd\n",
    "\n",
    "# Step 1: Perform a Cartesian product (cross join)\n",
    "combined_df = pd.merge(crop_data, land_season, how='cross')\n",
    "\n",
    "# Step 2: Apply the filtering logic\n",
    "def is_valid_combination(row):\n",
    "    land_type = row['地块类型']\n",
    "    season = row['季次']\n",
    "    \n",
    "    # Check if the land type and season combination is valid\n",
    "    if land_type in landtype_season_map and season in landtype_season_map[land_type]:\n",
    "        column_name = f\"{land_type}-{season}\"\n",
    "        return row[column_name] == 1\n",
    "    return False\n",
    "\n",
    "# Apply the filtering function to the combined DataFrame\n",
    "configs = combined_df[combined_df.apply(is_valid_combination, axis=1)].drop(columns=[\n",
    "    '平旱地-单季', '梯田-单季', '山坡地-单季', \n",
    "    '水浇地-单季', '水浇地-第一季', '水浇地-第二季', \n",
    "    '普通大棚-第一季', '普通大棚-第二季', \n",
    "    '智慧大棚-第一季', '智慧大棚-第二季', '地块面积/亩'\n",
    "]).rename(columns={'id_x':'id_crop', 'id_y':'id_landseason'})[['id_crop', 'id_landseason', '作物名称', '地块类型', '季次']]\n",
    "\n",
    "configs"
   ]
  },
  {
   "cell_type": "markdown",
   "metadata": {},
   "source": [
    "## Tidy Price"
   ]
  },
  {
   "cell_type": "code",
   "execution_count": null,
   "metadata": {},
   "outputs": [],
   "source": [
    "price_data = pd.read_excel(\"附件2.xlsx\", sheet_name=\"price\")\n",
    "price_data['id_crop'] = price_data['作物编号'] - 1\n",
    "price_data.rename(columns={'种植季次':'季次'}, inplace=True)\n",
    "price_data.replace(\"普通大棚 \", \"普通大棚\", inplace=True)\n",
    "price_data"
   ]
  },
  {
   "cell_type": "code",
   "execution_count": null,
   "metadata": {},
   "outputs": [],
   "source": [
    "print(pd.merge.__doc__)"
   ]
  },
  {
   "cell_type": "code",
   "execution_count": null,
   "metadata": {},
   "outputs": [],
   "source": [
    "config_w_profit = pd.merge(configs, price_data[['id_crop', '季次', '地块类型', 'profit']], on=['id_crop', '地块类型', '季次'], how='left')\n",
    "config_w_profit"
   ]
  },
  {
   "cell_type": "markdown",
   "metadata": {},
   "source": [
    "# Define Model"
   ]
  },
  {
   "cell_type": "code",
   "execution_count": null,
   "metadata": {},
   "outputs": [],
   "source": [
    "import gurobipy as gp\n",
    "from gurobipy import GRB\n",
    "\n",
    "try:\n",
    "    m = gp.Model(\"mip1\")\n",
    "\n",
    "    # (year, landseason, crop)\n",
    "    x = m.addMVar((7, len(land_season), len(crop_data)), lb=0, vtype=GRB.CONTINUOUS, name=\"x\")\n",
    "\n",
    "    # m.setObjective(x + y + 2 * z, GRB.MAXIMIZE)\n",
    "\n",
    "    # m.addConstr(x + 2 * y + 3 * z <= 4, \"c0\")\n",
    "\n",
    "    # m.addConstr(x + y >= 1, \"c1\")\n",
    "\n",
    "    m.optimize()\n",
    "\n",
    "    for v in m.getVars():\n",
    "        print(f\"{v.VarName} {v.X:g}\")\n",
    "\n",
    "    print(f\"Obj: {m.ObjVal:g}\")\n",
    "\n",
    "except gp.GurobiError as e:\n",
    "    print(f\"Error code {e.errno}: {e}\")\n",
    "\n",
    "except AttributeError:\n",
    "    print(\"Encountered an attribute error\")"
   ]
  }
 ],
 "metadata": {
  "kernelspec": {
   "display_name": "notebook",
   "language": "python",
   "name": "python3"
  },
  "language_info": {
   "codemirror_mode": {
    "name": "ipython",
    "version": 3
   },
   "file_extension": ".py",
   "mimetype": "text/x-python",
   "name": "python",
   "nbconvert_exporter": "python",
   "pygments_lexer": "ipython3",
   "version": "3.12.7"
  }
 },
 "nbformat": 4,
 "nbformat_minor": 2
}
